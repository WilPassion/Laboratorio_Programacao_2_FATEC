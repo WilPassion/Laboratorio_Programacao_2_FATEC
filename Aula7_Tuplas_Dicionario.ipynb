{
  "nbformat": 4,
  "nbformat_minor": 0,
  "metadata": {
    "colab": {
      "provenance": [],
      "authorship_tag": "ABX9TyOC6LbTMI2w5Gq9MXfWrIRz",
      "include_colab_link": true
    },
    "kernelspec": {
      "name": "python3",
      "display_name": "Python 3"
    },
    "language_info": {
      "name": "python"
    }
  },
  "cells": [
    {
      "cell_type": "markdown",
      "metadata": {
        "id": "view-in-github",
        "colab_type": "text"
      },
      "source": [
        "<a href=\"https://colab.research.google.com/github/WilPassion/Laboratorio_Programacao_2_FATEC/blob/main/Aula7_Tuplas_Dicionario.ipynb\" target=\"_parent\"><img src=\"https://colab.research.google.com/assets/colab-badge.svg\" alt=\"Open In Colab\"/></a>"
      ]
    },
    {
      "cell_type": "code",
      "execution_count": null,
      "metadata": {
        "colab": {
          "base_uri": "https://localhost:8080/"
        },
        "id": "HHP_Cc1JIg8A",
        "outputId": "8ee1e18d-d7dc-4719-c558-6fba5164c39b"
      },
      "outputs": [
        {
          "output_type": "stream",
          "name": "stdout",
          "text": [
            "('Python', 'Ruby', 'Javascript', 'Perl', 'Haskell')\n",
            "<class 'tuple'>\n"
          ]
        }
      ],
      "source": [
        "# TUPLA\n",
        "\n",
        "linguagens = (\"Python\",\"Ruby\",\"Javascript\",\"Perl\",\"Haskell\")\n",
        "print(linguagens)\n",
        "print(type(linguagens))"
      ]
    },
    {
      "cell_type": "code",
      "source": [
        "# O acesso aos itens de uma tupla é idêntico ao de uma lista:\n",
        "\n",
        "linguagens = (\"Python\",\"Ruby\",\"Javascript\",\"Perl\",\"Haskell\")\n",
        "print(linguagens[0:2]) # ('Python', 'Ruby')\n",
        "print(linguagens[-1]) # Haskell\n",
        "print(linguagens[:-2]) # ('Python', 'Ruby', 'Javascript')"
      ],
      "metadata": {
        "id": "JYtLro3xPulj"
      },
      "execution_count": null,
      "outputs": []
    },
    {
      "cell_type": "code",
      "source": [
        "# Elementos de uma tupla\n",
        "estudante = ('William', 35, 1988, 'Brasil')\n",
        "for item in estudante:\n",
        "  print(item)"
      ],
      "metadata": {
        "colab": {
          "base_uri": "https://localhost:8080/"
        },
        "id": "CXcA11VPP3zX",
        "outputId": "03028409-ace7-44a0-a2e4-da7d95966293"
      },
      "execution_count": null,
      "outputs": [
        {
          "output_type": "stream",
          "name": "stdout",
          "text": [
            "William\n",
            "35\n",
            "1988\n",
            "Brasil\n"
          ]
        }
      ]
    },
    {
      "cell_type": "code",
      "source": [
        "# Somando tuplas\n",
        "x = (1,2)\n",
        "y = (3,4)\n",
        "z = x + y\n",
        "print(z) # (1, 2, 3, 4)"
      ],
      "metadata": {
        "colab": {
          "base_uri": "https://localhost:8080/"
        },
        "id": "Yps2VSCESZly",
        "outputId": "dfeeafa1-42e0-40d4-cb65-d2868b302d5d"
      },
      "execution_count": null,
      "outputs": [
        {
          "output_type": "stream",
          "name": "stdout",
          "text": [
            "(1, 2, 3, 4)\n"
          ]
        }
      ]
    },
    {
      "cell_type": "code",
      "source": [
        "# Checando (\"procurando\") por valores em uma tupla\n",
        "print('Gabriel' in estudante) # False\n",
        "print(1990 in estudante) # True\n",
        "\n",
        "# Além disso, podemos checar também a absência de determinado elemento:\n",
        "print('Japão' not in estudante) # True\n",
        "print('Brasil' not in estudante) # False"
      ],
      "metadata": {
        "colab": {
          "base_uri": "https://localhost:8080/"
        },
        "id": "lB-bSKfMT0Hw",
        "outputId": "264705b6-2172-4b80-cc72-ef89619df4b4"
      },
      "execution_count": null,
      "outputs": [
        {
          "output_type": "stream",
          "name": "stdout",
          "text": [
            "False\n",
            "False\n",
            "True\n",
            "False\n"
          ]
        }
      ]
    },
    {
      "cell_type": "code",
      "source": [
        "# Tupla vs. listas\n",
        "\n",
        "# A execução do programa é mais rápida quando manipulamos uma tupla do que uma equivalente lista.\n",
        "\n",
        "# A biblioteca timeit nos fornece uma maneira simples de cronometrar pequenos trechos de código Python,\n",
        "# podemos usá-la para medir a eficiência de estruturas de dados como listas\n",
        "e tuplas:\n",
        "import timeit\n",
        "lista_teste = timeit.timeit(stmt='[1,2,3,4,5]', number=1_000_000)\n",
        "tupla_teste = timeit.timeit(stmt='(1,2,3,4,5)', number=1_000_000)\n",
        "print(f'Tempo da lista: {lista_teste}') # Tempo da lista: 0.07247144099983416\n",
        "print(f'Tempo da tupla: {tupla_teste}') # Tempo da tupla: 0.013942965999831358"
      ],
      "metadata": {
        "id": "v28zWTH6VeAK"
      },
      "execution_count": null,
      "outputs": []
    },
    {
      "cell_type": "code",
      "source": [
        "# Dicionario (estrutura em linha):\n",
        "\n",
        "album = {'nome':'A Night at the Opera','artista':'Queen','lançamento':2002}\n",
        "print(type(album)) # <class 'dict’>\n",
        "print(album) # {'nome': 'A Night at the Opera', 'artista': 'Blind Guardian', 'lançamento':\n",
        "2002}\n",
        "print(album['nome']) # A Night at the Opera\n",
        "print(album['artista']) # Blind Guardian\n",
        "print(album['lançamento']) # 2002"
      ],
      "metadata": {
        "id": "2cflkJaYW9M_"
      },
      "execution_count": null,
      "outputs": []
    },
    {
      "cell_type": "code",
      "source": [
        "# Dicionario (estrutura em linha):\n",
        "elemento = {\n",
        "    'nome': 'Ouro',\n",
        "    'símbolo': 'Au',  # Corrigido o fechamento das aspas\n",
        "    'número atômico': 79\n",
        "}"
      ],
      "metadata": {
        "id": "CforKMEsXLeE"
      },
      "execution_count": null,
      "outputs": []
    },
    {
      "cell_type": "markdown",
      "source": [
        "##**Atividade 6**\n",
        "\n",
        "* Em uma competição de salto em distância cada atleta tem direito a cinco saltos.\n",
        "\n",
        "* O resultado do atleta será determinado pela média dos cinco saltos realizados.\n",
        "\n",
        "* Você deve escrever um programa que receba o nome do atleta e as cinco distâncias (em metros) alcançadas pelo atleta.    \n",
        "\n",
        "* O programa deve ser encerrado quando não for informado o nome do atleta.\n",
        "\n",
        "* A saída do programa deve ser o nome dos atleta e a média dos cinco saltos realizados em seus saltos organizados da maior para a menor média:  \n",
        "\n",
        "                                  Competição de Salto - Resultado:  \n",
        "                                  José Pires – média: 5.9 m  \n",
        "                                  André Reis – média: 5.4 m  \n",
        "                                  Adriano Pires – média: 5.1m  "
      ],
      "metadata": {
        "id": "nCmUK9f-Y9zt"
      }
    },
    {
      "cell_type": "code",
      "source": [
        "# Atividade 6\n",
        "\n",
        "resultados = []\n",
        "\n",
        "while True:\n",
        "    # Entrada de dados - Nome\n",
        "    str_nome = input(\"Digite o nome do atleta (ou pressione Enter para sair): \")\n",
        "\n",
        "    if not str_nome:\n",
        "        break\n",
        "\n",
        "    # Entrada de dados - Saltos\n",
        "    saltos = []\n",
        "    for i in range(5):\n",
        "        flt_salto = float(input(f\"Digite a distância do {i+1}º salto em metros: \"))\n",
        "        saltos.append(flt_salto)\n",
        "\n",
        "    # Processa a média dos saltos\n",
        "    media = sum(saltos) / 5\n",
        "    resultados.append((str_nome, media))\n",
        "\n",
        "# Ordena os resultados pela média dos saltos em ordem decrescente\n",
        "resultados_ordenados = sorted(resultados, key=lambda x: x[1], reverse=True)\n",
        "\n",
        "# Saída: Nome dos atletas e a média dos cinco saltos realizados\n",
        "print(\"\\nCompetição de Salto - Resultado:\")\n",
        "for atleta, media in resultados_ordenados:\n",
        "    print(f\"{atleta} – média: {media:.1f} m\")"
      ],
      "metadata": {
        "id": "2hSAwfltY7I0"
      },
      "execution_count": null,
      "outputs": []
    },
    {
      "cell_type": "markdown",
      "source": [
        "**resultados_ordenados = sorted(resultados, key=lambda x: x[1], reverse=True)**  \n",
        "\n",
        "* sorted(resultados): a função sorted() é aplicada à lista resultados.\n",
        "\n",
        "* key=lambda x: x[1]: a função lambda faz com que o Python olhe para o segundo valor (média) de cada tupla durante a ordenação.\n",
        "\n",
        "* reverse=True: significa que a ordenação será feita do maior para o menor valor de média."
      ],
      "metadata": {
        "id": "vsfoI3aIJedF"
      }
    }
  ]
}