{
  "cells": [
    {
      "cell_type": "markdown",
      "metadata": {
        "id": "view-in-github",
        "colab_type": "text"
      },
      "source": [
        "<a href=\"https://colab.research.google.com/github/WilPassion/Laboratorio_Programacao_2_FATEC/blob/main/Aula5_Listas.ipynb\" target=\"_parent\"><img src=\"https://colab.research.google.com/assets/colab-badge.svg\" alt=\"Open In Colab\"/></a>"
      ]
    },
    {
      "cell_type": "markdown",
      "metadata": {
        "id": "q0k6b5M9MEGn"
      },
      "source": [
        "  ### **Aula 5 - Listas em Python**"
      ]
    },
    {
      "cell_type": "code",
      "execution_count": null,
      "metadata": {
        "id": "JByfRovuMEGq",
        "outputId": "59606365-3105-4532-f382-8b245762dacc"
      },
      "outputs": [
        {
          "name": "stdout",
          "output_type": "stream",
          "text": [
            "<class 'int'>\n",
            "<class 'float'>\n",
            "<class 'str'>\n",
            "<class 'bool'>\n",
            "<class 'bool'>\n",
            "<class 'list'>\n"
          ]
        }
      ],
      "source": [
        "# Tipos de Dados\n",
        "\n",
        "# int\n",
        "idade = 35\n",
        "print(type(idade))\n",
        "\n",
        "# float\n",
        "altura = 1.79\n",
        "print(type(altura))\n",
        "\n",
        "# string\n",
        "nome = 'Doctor Strange'\n",
        "print(type(nome))\n",
        "\n",
        "# bool - 0 ou 1 / True ou False\n",
        "fim_de_semana = True\n",
        "feriado = False\n",
        "\n",
        "print(type(fim_de_semana))\n",
        "print(type(feriado))\n",
        "\n",
        "# lista\n",
        "list_estados_sudeste = ['ES', 'SP', 'RJ']\n",
        "print(type(list_estados_sudeste))\n"
      ]
    },
    {
      "cell_type": "code",
      "execution_count": null,
      "metadata": {
        "id": "8nYxS2zjMEGw",
        "outputId": "acad55ad-4425-4937-bc19-2e64b3f18aa5"
      },
      "outputs": [
        {
          "name": "stdout",
          "output_type": "stream",
          "text": [
            "['Thor']\n",
            "['Médico', 'Engenheiro', 'Analista de Dados']\n",
            "['João', 1996, 'tecnólogo']\n"
          ]
        }
      ],
      "source": [
        "# Criando listas\n",
        "\n",
        "# Lista vazia\n",
        "resultado = []\n",
        "\n",
        "# Lista com um elemento\n",
        "nome = ['Thor']\n",
        "print(nome)\n",
        "\n",
        "# Lista com elementos comuns\n",
        "lista_roles = ['Médico', 'Engenheiro', 'Analista de Dados']\n",
        "print(lista_roles)\n",
        "\n",
        "# Lista com elementos variados\n",
        "dados_pessoais = ['João', 1996, 'tecnólogo']\n",
        "print(dados_pessoais)"
      ]
    },
    {
      "cell_type": "code",
      "execution_count": null,
      "metadata": {
        "colab": {
          "base_uri": "https://localhost:8080/"
        },
        "id": "qlib_NsEMEGy",
        "outputId": "b8856729-28dc-40cc-a100-9d9f2f6676ad"
      },
      "outputs": [
        {
          "output_type": "stream",
          "name": "stdout",
          "text": [
            "Abacaxi\n",
            "Abacaxi\n",
            "Maçã\n",
            "Maçã\n"
          ]
        }
      ],
      "source": [
        "# Listas - Índices\n",
        "\n",
        "# Todos os itens de uma lista são indexados, ou seja, para cada item da lista\n",
        "# existe um índice positivo atribuído automaticamente na criação da lista. O\n",
        "# primeiro índice de uma lista é o índice 0 (zero).\n",
        "\n",
        "# De forma a facilitar o trabalho com listas, quando não sabemos quantos\n",
        "# elementos a lista possui, podemos usar índices negativos, que significa\n",
        "# começar a lista pelo fim. O último elemento de uma lista é o elemento com\n",
        "# o índice -1.\n",
        "\n",
        "# -------------------------------------------------------------\n",
        "\n",
        "# VALORES  -->   ÍNDICES\n",
        "# -------        -------\n",
        "# Maçã     -->   0 e -5\n",
        "# Banana   -->   1 e -4\n",
        "# Laranja  -->   2 e -3\n",
        "# Melão    -->   3 e -2\n",
        "# Abacaxi  -->   4 e -1\n",
        "\n",
        "frutas = ['Maçã', 'Banana', 'Laranja', 'Melão', 'Abacaxi']\n",
        "\n",
        "# saídas\n",
        "print(frutas[4]) # abacaxi\n",
        "print(frutas[-1]) # abacaxi\n",
        "print(frutas[-5]) # maçã\n",
        "print(frutas[0]) # maçã"
      ]
    },
    {
      "cell_type": "code",
      "source": [
        "# Listas - Trabalhando com índices\n",
        "\n",
        "funcionarios = ['Capitão América', 'Homem de Ferro', 'Viúva Negra', 'Thor']\n",
        "\n",
        "# saídas\n",
        "print(funcionarios[0:2]) # ['Capitão América', 'Homem de Ferro']\n",
        "print(funcionarios[:2]) # ['Capitão América', 'Homem de Ferro']\n",
        "\n",
        "print(funcionarios[-2]) # Viúva Negra\n",
        "print(funcionarios[1:]) # ['Homem de Ferro', 'Viúva Negra', 'Thor']\n",
        "\n",
        "print(funcionarios[:]) # ['Capitão América', 'Homem de Ferro', 'Viúva Negra', 'Thor']"
      ],
      "metadata": {
        "colab": {
          "base_uri": "https://localhost:8080/"
        },
        "id": "MvnDGBFeNkPk",
        "outputId": "12c57008-0da0-4849-a465-d637a527c5a0"
      },
      "execution_count": null,
      "outputs": [
        {
          "output_type": "stream",
          "name": "stdout",
          "text": [
            "['Capitão América', 'Homem de Ferro']\n",
            "['Capitão América', 'Homem de Ferro']\n",
            "Viúva Negra\n",
            "['Homem de Ferro', 'Viúva Negra', 'Thor']\n",
            "['Capitão América', 'Homem de Ferro', 'Viúva Negra', 'Thor']\n"
          ]
        }
      ]
    },
    {
      "cell_type": "code",
      "source": [
        "# Listas – Acessando dados em uma lista\n",
        "\n",
        "dados_pessoais = ['João', 1996, 'tecnólogo']\n",
        "\n",
        "# Acessando posição [0]\n",
        "print(dados_pessoais[0]) # João\n",
        "\n",
        "# Acessando posição [1]\n",
        "print(dados_pessoais[1]) # 1996\n",
        "\n",
        "# Acessando posição [2]\n",
        "print(dados_pessoais[2]) # tecnólogo"
      ],
      "metadata": {
        "id": "6d7ImZN_P3aZ",
        "colab": {
          "base_uri": "https://localhost:8080/"
        },
        "outputId": "36c47274-5cbc-43e3-b3aa-ee768403cc6b"
      },
      "execution_count": null,
      "outputs": [
        {
          "output_type": "stream",
          "name": "stdout",
          "text": [
            "João\n",
            "1996\n",
            "tecnólogo\n"
          ]
        }
      ]
    },
    {
      "cell_type": "code",
      "execution_count": null,
      "metadata": {
        "id": "l3sKQbz7MEGz",
        "outputId": "052c971b-7269-4019-d74c-2530006e9b1d",
        "colab": {
          "base_uri": "https://localhost:8080/"
        }
      },
      "outputs": [
        {
          "output_type": "stream",
          "name": "stdout",
          "text": [
            "['Maçã', 'Banana', 'Laranja', 'Melão', 'Abacaxi', 'Limão', 'Uva']\n"
          ]
        }
      ],
      "source": [
        "# Listas - Inserindo itens em linda: Append --> Adiciona um item ao fim de uma lista.\n",
        "\n",
        "frutas = ['Maçã', 'Banana', 'Laranja', 'Melão', 'Abacaxi']\n",
        "\n",
        "# insere uma nova gruta\n",
        "frutas.append('Limão')\n",
        "frutas.append('Uva')\n",
        "\n",
        "# saída\n",
        "print(frutas) # 'Maçã', 'Banana', 'Laranja', 'Melão', 'Abacaxi', 'Limão', 'Uva'"
      ]
    },
    {
      "cell_type": "code",
      "source": [
        "# Listas - Inserindo itens em lista: Insert --> Insere um item em uma posição index da lista --> # list.insert\n",
        "\n",
        "vogais = ['a', 'e', 'i', 'u']\n",
        "\n",
        "# inserindo 'o'\n",
        "vogais.insert(3, 'o') # --> (posição, 'item')\n",
        "\n",
        "# saida\n",
        "print(vogais)"
      ],
      "metadata": {
        "colab": {
          "base_uri": "https://localhost:8080/"
        },
        "id": "fLQqAbzj1Mfr",
        "outputId": "91158b34-d9c9-42ca-b9b2-c5cd9e102fe2"
      },
      "execution_count": null,
      "outputs": [
        {
          "output_type": "stream",
          "name": "stdout",
          "text": [
            "['a', 'e', 'i', 'o', 'u']\n"
          ]
        }
      ]
    },
    {
      "cell_type": "code",
      "execution_count": null,
      "metadata": {
        "id": "5kl77M4DMEG0",
        "colab": {
          "base_uri": "https://localhost:8080/"
        },
        "outputId": "eb07a971-69f3-4b7f-9cad-d703a8c05e30"
      },
      "outputs": [
        {
          "output_type": "stream",
          "name": "stdout",
          "text": [
            "[]\n"
          ]
        }
      ],
      "source": [
        "# Removendo itens em uma lista: Clear --> Apaga toda a lista --> list.clear\n",
        "\n",
        "vogais = ['a', 'e', 'i', 'u']\n",
        "\n",
        "list.clear(vogais)\n",
        "\n",
        "# saída\n",
        "print(vogais) # []"
      ]
    },
    {
      "cell_type": "code",
      "source": [
        "# Removendo itens em uma lista: Pop --> remover um valor da lista definindo o ÍNDICE desejado --> list.pop()\n",
        "\n",
        "numeros_pares = [0, 2, 4, 6, 7, 8, 10]\n",
        "\n",
        "# remove index 4 ou 5º elemento = '7'\n",
        "impar_removido = numeros_pares.pop(4)\n",
        "\n",
        "# saída\n",
        "print(numeros_pares) # 0, 2, 4, 6, 8, 10\n",
        "print(impar_removido) # 7"
      ],
      "metadata": {
        "colab": {
          "base_uri": "https://localhost:8080/"
        },
        "id": "TIlqpbfq2wp7",
        "outputId": "509926a4-a270-4d0e-f53d-524f20d325c0"
      },
      "execution_count": null,
      "outputs": [
        {
          "output_type": "stream",
          "name": "stdout",
          "text": [
            "[0, 2, 4, 6, 8, 10]\n",
            "7\n"
          ]
        }
      ]
    },
    {
      "cell_type": "code",
      "source": [
        "# Removendo itens em uma lista: Remover --> remover um valor da lista definindo o VALOR.\n",
        "# Se houverem itens iguais, remove o primeiro item da lista --> list.remove()\n",
        "\n",
        "vogais = ['a', 'e', 'i', 'o', 'u', 's', 'p']\n",
        "print(vogais)\n",
        "\n",
        "# remove 's'\n",
        "vogais.remove( 's')\n",
        "\n",
        "# remove 'p'\n",
        "vogais.remove( 'p')\n",
        "\n",
        "# saída\n",
        "print(vogais)"
      ],
      "metadata": {
        "colab": {
          "base_uri": "https://localhost:8080/"
        },
        "id": "m-tNRqzB57Sr",
        "outputId": "672f58e9-8316-4b53-b274-c8315b25d8f1"
      },
      "execution_count": null,
      "outputs": [
        {
          "output_type": "stream",
          "name": "stdout",
          "text": [
            "['a', 'e', 'i', 'o', 'u', 's', 'p']\n",
            "['a', 'e', 'i', 'o', 'u']\n"
          ]
        }
      ]
    },
    {
      "cell_type": "code",
      "source": [
        "# Removendo itens em uma lista: método del --> mesmo resultado do pop\n",
        "\n",
        "vogais = ['a', 'e', 'i', 'o', 'u', 's']\n",
        "\n",
        "# remove 's'\n",
        "del vogais[5]\n",
        "\n",
        "# saida\n",
        "print(vogais) # ['a', 'e', 'i', 'o', 'u']\n"
      ],
      "metadata": {
        "colab": {
          "base_uri": "https://localhost:8080/"
        },
        "id": "xTv3OjSI7NSu",
        "outputId": "69f40070-e44c-4b4a-f9f2-d9c147946f40"
      },
      "execution_count": null,
      "outputs": [
        {
          "output_type": "stream",
          "name": "stdout",
          "text": [
            "['a', 'e', 'i', 'o', 'u']\n"
          ]
        }
      ]
    },
    {
      "cell_type": "code",
      "source": [
        "# Listas – Outras operações com listas: list.index() --> Retorna o índice de um elemento especificado na lista\n",
        "\n",
        "animais = ['gato', 'cachorro', 'coelho', 'cavalo']\n",
        "\n",
        "# imprime o index do elemento 'coelho'\n",
        "index = animais.index('coelho')\n",
        "print(index) # 2"
      ],
      "metadata": {
        "colab": {
          "base_uri": "https://localhost:8080/"
        },
        "id": "Ej0au0of7uLs",
        "outputId": "6a5e7ebb-959e-44c9-8fa0-6ba11693033a"
      },
      "execution_count": null,
      "outputs": [
        {
          "output_type": "stream",
          "name": "stdout",
          "text": [
            "2\n"
          ]
        }
      ]
    },
    {
      "cell_type": "code",
      "source": [
        "# Listas – Outras operações com listas: list.count() --> Retorna o número de vezes que um valor aparece na lista\n",
        "\n",
        "animais = ['gato', 'gato', 'gato', 'cachorro', 'cachorro', 'coelho', 'cavalo']\n",
        "\n",
        "# conta 'gato'\n",
        "conta_gato = animais.count('gato')\n",
        "\n",
        "# saída\n",
        "print(conta_gato) # 3"
      ],
      "metadata": {
        "colab": {
          "base_uri": "https://localhost:8080/"
        },
        "id": "14TjvG1j85AQ",
        "outputId": "3e18ca18-4db6-4a26-8cd9-584f3ba80f2c"
      },
      "execution_count": null,
      "outputs": [
        {
          "output_type": "stream",
          "name": "stdout",
          "text": [
            "3\n"
          ]
        }
      ]
    },
    {
      "cell_type": "code",
      "source": [
        "# Listas – Outras operações com listas: list.sort() --> Ordena os itens de uma lista em ordem crescente ou decrescente.\n",
        "\n",
        "alunos = ['William', 'Ana', 'Marcos', 'Jeferson', 'Carla', 'Eduardo', 'Maria']\n",
        "\n",
        "# ordena s lista em ordem...\n",
        "\n",
        "# descrescente\n",
        "alunos.sort(reverse=True)\n",
        "print(alunos)\n",
        "\n",
        "# crescente\n",
        "alunos.sort(reverse=False)\n",
        "print(alunos)\n",
        "\n",
        "# -------------------------\n",
        "\n",
        "personagens_marvel = ['Capitão América', 'Homem de Ferro', 'Viúva Negra', 'Thor',\n",
        "                      'Thano', 'Surfista Prateado', 'Homem Aranha', 'Noturno']\n",
        "\n",
        "# ordem alfabética - crescente\n",
        "personagens_marvel.sort()\n",
        "print(personagens_marvel)\n",
        "\n",
        "personagens_marvel.sort(reverse=False)\n",
        "print(personagens_marvel)\n",
        "\n",
        "# ordem alfabética - descrescente\n",
        "personagens_marvel.sort(reverse=True) # True = inverte\n",
        "print(personagens_marvel)"
      ],
      "metadata": {
        "colab": {
          "base_uri": "https://localhost:8080/"
        },
        "id": "kkJyD-xpAv0C",
        "outputId": "df0ef656-6819-4187-dd28-08b4c3dbb33c"
      },
      "execution_count": null,
      "outputs": [
        {
          "output_type": "stream",
          "name": "stdout",
          "text": [
            "['William', 'Maria', 'Marcos', 'Jeferson', 'Eduardo', 'Carla', 'Ana']\n",
            "['Ana', 'Carla', 'Eduardo', 'Jeferson', 'Marcos', 'Maria', 'William']\n",
            "['Capitão América', 'Homem Aranha', 'Homem de Ferro', 'Noturno', 'Surfista Prateado', 'Thano', 'Thor', 'Viúva Negra']\n",
            "['Capitão América', 'Homem Aranha', 'Homem de Ferro', 'Noturno', 'Surfista Prateado', 'Thano', 'Thor', 'Viúva Negra']\n",
            "['Viúva Negra', 'Thor', 'Thano', 'Surfista Prateado', 'Noturno', 'Homem de Ferro', 'Homem Aranha', 'Capitão América']\n"
          ]
        }
      ]
    },
    {
      "cell_type": "code",
      "source": [
        "# Listas – Outras operações com listas: list.revert() --> Reverte a ordem dos elementos de uma lista.\n",
        "\n",
        "vogais = ['a', 'e', 'i', 'o', 'u']\n",
        "\n",
        "# revertendo vogais\n",
        "vogais.reverse()\n",
        "print(vogais)"
      ],
      "metadata": {
        "colab": {
          "base_uri": "https://localhost:8080/"
        },
        "id": "-qD0VaxBEA4k",
        "outputId": "5e8e72e5-2148-4aa3-fb6c-b0cf2e8e629a"
      },
      "execution_count": null,
      "outputs": [
        {
          "output_type": "stream",
          "name": "stdout",
          "text": [
            "['u', 'o', 'i', 'e', 'a']\n",
            "None\n"
          ]
        }
      ]
    },
    {
      "cell_type": "code",
      "source": [
        "# Listas – Outras operações com listas: list.copy() --> # Retorna uma lista com a cópia dos elementos da lista de origem -> ÚTIL PARA TESTES.\n",
        "\n",
        "personagens_marvel = ['Capitão América', 'Homem de Ferro', 'Viúva Negra', 'Thor',\n",
        "                      'Thano', 'Surfista Prateado', 'Homem Aranha', 'Noturno']\n",
        "\n",
        "# print lista original\n",
        "print(personagens_marvel)\n",
        "\n",
        "# copiando lista\n",
        "copia_lista_marvel = personagens_marvel.copy()\n",
        "print(copia_lista_marvel)"
      ],
      "metadata": {
        "colab": {
          "base_uri": "https://localhost:8080/"
        },
        "id": "yEw3Q3DUFKhr",
        "outputId": "59e1748f-40e1-4934-c658-1927ac401856"
      },
      "execution_count": null,
      "outputs": [
        {
          "output_type": "stream",
          "name": "stdout",
          "text": [
            "['Capitão América', 'Homem de Ferro', 'Viúva Negra', 'Thor', 'Thano', 'Surfista Prateado', 'Homem Aranha', 'Noturno']\n",
            "['Capitão América', 'Homem de Ferro', 'Viúva Negra', 'Thor', 'Thano', 'Surfista Prateado', 'Homem Aranha', 'Noturno']\n"
          ]
        }
      ]
    },
    {
      "cell_type": "code",
      "source": [
        "# Lista - Operadores min(), max(), sum() e len() --> Usando esses operadores, encontra-se o menor, o maior, a\n",
        "# soma e o número dos itens de uma lista.\n",
        "\n",
        "numeros = [1, 3, 5, 7, 9]\n",
        "\n",
        "# saída\n",
        "print(min(numeros)) # 1\n",
        "print(max(numeros)) # 9\n",
        "print(sum(numeros)) # 25\n",
        "print(len(numeros)) # 5"
      ],
      "metadata": {
        "colab": {
          "base_uri": "https://localhost:8080/"
        },
        "id": "TTRApKOLGqn5",
        "outputId": "50022413-46e1-4105-8232-ac3d9a6c24ac"
      },
      "execution_count": null,
      "outputs": [
        {
          "output_type": "stream",
          "name": "stdout",
          "text": [
            "1\n",
            "9\n",
            "25\n",
            "5\n"
          ]
        }
      ]
    },
    {
      "cell_type": "code",
      "source": [
        "# Listas – Função range() --> Cria uma sequência de números com dado início, passo e fim.\n",
        "\n",
        "# Basicamente, existem 3 sintaxes possíveis para a função:\n",
        "\n",
        "primeiros_dez = list(range(10))\n",
        "print(primeiros_dez) # 0, 1, 2, 3, 4, 5, 6, 7, 8, 9\n",
        "\n",
        "um_a_vinte = list(range(1, 21))\n",
        "print(um_a_vinte) # 1, 2, 3, 4, 5, 6, 7, 8, 9, 10, 11, 12, 13, 14, 15, 16, 17, 18, 19, 20\n",
        "\n",
        "numeros_pares = list(range(0, 101, 2)) # 0, 2, 4, 6, 8, 10, 12, 14, 16 ... 100\n",
        "print(numeros_pares)"
      ],
      "metadata": {
        "colab": {
          "base_uri": "https://localhost:8080/"
        },
        "id": "NgT9aTChICU-",
        "outputId": "1607f02c-078a-4e47-fedb-df6e1b3079f6"
      },
      "execution_count": null,
      "outputs": [
        {
          "output_type": "stream",
          "name": "stdout",
          "text": [
            "[0, 1, 2, 3, 4, 5, 6, 7, 8, 9]\n",
            "[1, 2, 3, 4, 5, 6, 7, 8, 9, 10, 11, 12, 13, 14, 15, 16, 17, 18, 19, 20]\n",
            "[0, 2, 4, 6, 8, 10, 12, 14, 16, 18, 20, 22, 24, 26, 28, 30, 32, 34, 36, 38, 40, 42, 44, 46, 48, 50, 52, 54, 56, 58, 60, 62, 64, 66, 68, 70, 72, 74, 76, 78, 80, 82, 84, 86, 88, 90, 92, 94, 96, 98, 100]\n"
          ]
        }
      ]
    },
    {
      "cell_type": "code",
      "source": [
        "# Listas – List Comprehensions (Compreensão de Listas) --> List Comprehension é uma forma concisa de criar e manipular listas\n",
        "\n",
        "\n",
        "lista = []\n",
        "for item in range(10):\n",
        "  lista.append(item ** 2)\n",
        "print(lista) # 0, 1, 4, 9, 16, 25, 36, 49, 64, 81\n",
        "\n",
        "# aplique a expressão \"expr\" em cada item da lista --> [expr for item in lista]:\n",
        "lista = [item ** 2 for item in range(10)]\n",
        "print(lista)\n",
        "\n"
      ],
      "metadata": {
        "colab": {
          "base_uri": "https://localhost:8080/"
        },
        "id": "aUiVERtDK6RZ",
        "outputId": "1200f740-d1ed-4aaf-b2b5-8bb97a0d66f5"
      },
      "execution_count": null,
      "outputs": [
        {
          "output_type": "stream",
          "name": "stdout",
          "text": [
            "[0, 1, 4, 9, 16, 25, 36, 49, 64, 81]\n",
            "[0, 1, 4, 9, 16, 25, 36, 49, 64, 81]\n"
          ]
        }
      ]
    },
    {
      "cell_type": "code",
      "source": [
        "# Listas – List Comprehensions com if --> expressões condicionais para criar listas ou modificar listas existentes.\n",
        "# Aplique a expressão expr em cada item da lista caso a condição cond seja satisfeita.\n",
        "\n",
        "# sem list comprehesion\n",
        "sem_impar= []\n",
        "for numero in range(20):\n",
        "  if numero % 2 == 0:\n",
        "    print(numero) # resultado do loop(número na vertical)\n",
        "\n",
        "# sem list comprehesion\n",
        "sem_impar= []\n",
        "for numero in range(20):\n",
        "  if numero % 2 == 0:\n",
        "    sem_impar.append(numero)\n",
        "print(sem_impar) # [0, 2, 4, 6, 8, 10, 12, 14, 16, 18]\n",
        "\n",
        "sem_impar = [numero for numero in range(20) if numero % 2 == 0] # [0, 2, 4, 6, 8, 10, 12, 14, 16, 18]\n",
        "print(sem_impar)"
      ],
      "metadata": {
        "colab": {
          "base_uri": "https://localhost:8080/"
        },
        "id": "8-rWgNtVV2IE",
        "outputId": "30726740-db38-410d-9af4-9b087c561e5d"
      },
      "execution_count": null,
      "outputs": [
        {
          "output_type": "stream",
          "name": "stdout",
          "text": [
            "0\n",
            "2\n",
            "4\n",
            "6\n",
            "8\n",
            "10\n",
            "12\n",
            "14\n",
            "16\n",
            "18\n",
            "[0, 2, 4, 6, 8, 10, 12, 14, 16, 18]\n",
            "[0, 2, 4, 6, 8, 10, 12, 14, 16, 18]\n"
          ]
        }
      ]
    },
    {
      "cell_type": "code",
      "source": [
        "# Listas – List Comprehensions com vários if -> Podemos verificar condições em duas listas diferentes dentro da mesma list comprehension.\n",
        "\n",
        "# múltiplos comuns de 5 e 6\n",
        "\n",
        "multipo_comum = []\n",
        "\n",
        "for numero in range(100):\n",
        "  if numero % 5 == 0 and numero % 6 == 0:\n",
        "    multipo_comum.append(numero)\n",
        "print(multipo_comum)\n",
        "\n",
        "# usando list comprehesion\n",
        "multiplo_comun = [numero for numero in range(100) if numero % 5 == 0 if numero % 6 == 0]\n",
        "print(multiplo_comun)"
      ],
      "metadata": {
        "colab": {
          "base_uri": "https://localhost:8080/"
        },
        "id": "P_kQWFSEb8Z6",
        "outputId": "a63f37d3-a2e9-4667-f0b3-8c9a20967d49"
      },
      "execution_count": null,
      "outputs": [
        {
          "output_type": "stream",
          "name": "stdout",
          "text": [
            "[0, 30, 60, 90]\n"
          ]
        }
      ]
    },
    {
      "cell_type": "code",
      "source": [
        "# Listas – List Comprehensions com if e else\n",
        "\n",
        "#  criar uma lista que contenha '1' quando determinado número for múltiplo de 5 e 0, caso contrário\n",
        "\n",
        "lista = ['1' if numero % 5 == 0 else '0' for numero in range(100)]\n",
        "print(lista)"
      ],
      "metadata": {
        "colab": {
          "base_uri": "https://localhost:8080/"
        },
        "id": "6b3XKBhOhGB2",
        "outputId": "9a511726-17eb-4299-f7e5-7aee18b20815"
      },
      "execution_count": null,
      "outputs": [
        {
          "output_type": "stream",
          "name": "stdout",
          "text": [
            "['1', '0', '0', '0', '0', '1', '0', '0', '0', '0', '1', '0', '0', '0', '0', '1', '0', '0', '0', '0', '1', '0', '0', '0', '0', '1', '0', '0', '0', '0', '1', '0', '0', '0', '0', '1', '0', '0', '0', '0', '1', '0', '0', '0', '0', '1', '0', '0', '0', '0', '1', '0', '0', '0', '0', '1', '0', '0', '0', '0', '1', '0', '0', '0', '0', '1', '0', '0', '0', '0', '1', '0', '0', '0', '0', '1', '0', '0', '0', '0', '1', '0', '0', '0', '0', '1', '0', '0', '0', '0', '1', '0', '0', '0', '0', '1', '0', '0', '0', '0']\n"
          ]
        }
      ]
    },
    {
      "cell_type": "code",
      "source": [
        "# praticando... Palavras com Mais de Três Letras\n",
        "\n",
        "# Exercício 1 - Dada a lista de palavras, filtre apenas as palavras com mais de 3 letras.\n",
        "\n",
        "lista_palavras = ['rã', 'cão', 'gato', 'elefante', 'onça', 'águia']\n",
        "\n",
        "palavras_mais_3_letras = [palavra for palavra in lista_palavras if len(palavra) > 3]\n",
        "print(palavras_mais_3_letras) # ['gato', 'elefante', 'onça', 'águia']"
      ],
      "metadata": {
        "colab": {
          "base_uri": "https://localhost:8080/"
        },
        "id": "voN6Yba8jq4K",
        "outputId": "6a14ef1e-3e04-49d2-a8a3-128ce499dfa2"
      },
      "execution_count": null,
      "outputs": [
        {
          "output_type": "stream",
          "name": "stdout",
          "text": [
            "['gato', 'elefante', 'onça', 'águia']\n"
          ]
        }
      ]
    },
    {
      "cell_type": "code",
      "source": [
        "# praticando...Números Negativos Transformados em Positivos\n",
        "\n",
        "# Exercício 2 - Dada uma lista de números, converta todos os números negativos em positivos.\n",
        "\n",
        "lista_numeros = [-1, -2, -3, 4, 5, 6, -7]\n",
        "\n",
        "transforma_para_positivo = [numero * -1 if numero < 0 else numero for numero in lista_numeros]\n",
        "print(transforma_para_positivo)"
      ],
      "metadata": {
        "colab": {
          "base_uri": "https://localhost:8080/"
        },
        "id": "N8HGJ-cJlnS8",
        "outputId": "22caeae3-feac-4885-ae92-4c71fe71ad02"
      },
      "execution_count": null,
      "outputs": [
        {
          "output_type": "stream",
          "name": "stdout",
          "text": [
            "[1, 2, 3, 4, 5, 6, 7]\n"
          ]
        }
      ]
    },
    {
      "cell_type": "code",
      "source": [
        "# praticando...Pares em uma Lista\n",
        "\n",
        "# Exercício 3 - Crie uma lista com os números pares entre 0 e 20\n",
        "\n",
        "pares = list(numero for numero in range(21) if numero % 2 == 0)\n",
        "print(pares)"
      ],
      "metadata": {
        "colab": {
          "base_uri": "https://localhost:8080/"
        },
        "id": "aQKunzV6nylq",
        "outputId": "3d7f0b93-01d1-4d18-8b38-51f3c7995e22"
      },
      "execution_count": null,
      "outputs": [
        {
          "output_type": "stream",
          "name": "stdout",
          "text": [
            "[0, 2, 4, 6, 8, 10, 12, 14, 16, 18, 20]\n"
          ]
        }
      ]
    },
    {
      "cell_type": "code",
      "source": [
        "# praticando... Converter para Maiúsculas\n",
        "\n",
        "# Exercício 3 - Dada uma lista de palavras, converta todas para letras maiúsculas.\n",
        "\n",
        "palavras = ['gato', 'cachorro', 'elefante', 'onça', 'águia']\n",
        "\n",
        "palavras_maiusculas = [palavras.upper() for palavras in palavras]\n",
        "print(palavras_maiusculas)"
      ],
      "metadata": {
        "colab": {
          "base_uri": "https://localhost:8080/"
        },
        "id": "SxueS_eapOiq",
        "outputId": "14b414eb-faca-47a6-9430-3ac527c7c7e2"
      },
      "execution_count": null,
      "outputs": [
        {
          "output_type": "stream",
          "name": "stdout",
          "text": [
            "['GATO', 'CACHORRO', 'ELEFANTE', 'ONÇA', 'ÁGUIA']\n"
          ]
        }
      ]
    },
    {
      "cell_type": "markdown",
      "source": [
        "  ### **Atividade 4**\n",
        "  \n",
        "\n",
        "Uma emissora de televisão quer fazer uma enquete entre os seus telespectadores para saber qual o melhor jogador após cada jogo de futebol.\n",
        "\n",
        "Para isto, faz-se necessário o desenvolvimento de um programa, que será utilizado pelas telefonistas, para a computação dos votos. Você foi contratada para desenvolver este programa.\n",
        "\n",
        "Para computar cada voto, a telefonista digitará um número, entre 1 e 23, correspondente ao número da camisa do jogador.\n",
        "\n",
        "Um número de jogador igual zero, indica que a votação foi encerrada.\n",
        "\n",
        "Se um número inválido for digitado, o programa deve ignorá-lo, mostrando uma breve mensagem de aviso e voltando a pedir outro número.\n",
        "\n",
        "Após o final da votação, o programa deverá exibir:\n",
        "\n",
        "* O total de votos computados;\n",
        "\n",
        "* Os números e respectivos votos de todos os jogadores que receberam votos;\n",
        "\n",
        "* O percentual de votos de cada um destes jogadores;\n",
        "\n",
        "* O número do jogador escolhido como o melhor jogador da partida, juntamente com o número de votos e o percentual de votos dados a ele.\n",
        "\n",
        "Observe que os votos inválidos e o zero final não devem ser computados como votos.\n",
        "\n",
        "O resultado aparece ordenado pelo número do jogador. O programa deve fazer uso de listas."
      ],
      "metadata": {
        "id": "DYFJz3Uup3IB"
      }
    },
    {
      "cell_type": "code",
      "source": [
        "# Atividade 4\n",
        "\n",
        "print('=-' * 30)\n",
        "print('Sistema de Votação Esportivo'.center(60))\n",
        "print('=-' * 30)\n",
        "\n",
        "votos = [0] * 24  # Lista índices jogadores de 1 a 23\n",
        "\n",
        "continuar_votacao = True # var. controle do loop\n",
        "total_votos = 0\n",
        "\n",
        "while continuar_votacao:\n",
        "    numero_voto = input('Digite o número do jogador [0 - encerra]: ')\n",
        "\n",
        "    # Verifica se a entrada é composta por dígitos\n",
        "    if numero_voto.isdigit():\n",
        "        numero_voto = int(numero_voto)  # Converte o input para inteiro\n",
        "\n",
        "        if 1 <= numero_voto <= 23:  # Verifica se o voto é válido\n",
        "            total_votos += 1\n",
        "            votos[numero_voto -1] += 1\n",
        "        elif numero_voto == 0:  # Encerra a votação\n",
        "            continuar_votacao = False\n",
        "        else:\n",
        "            print('Número inválido!')\n",
        "    else:\n",
        "        print('Número inválido! Digite novamente: ')\n",
        "\n",
        "# funcao formata valores float de saída\n",
        "def formata_valor(valor):\n",
        "  return f\"{valor:_.2f}\".replace('.',',').replace('_','.') # R$ 1_234_567.89 -> replace('_','.')\n",
        "\n",
        "# Saída dados - Mostrando resultados:\n",
        "print('=-' * 30)\n",
        "print('Resultados:\\n')\n",
        "\n",
        "# total de votos computados\n",
        "print(f\"Total de votos: {total_votos}\")\n",
        "\n",
        "# números e respectivos votos de todos os jogadores\n",
        "# percentual de votos de cada um destes jogadores\n",
        "for i in range(23):\n",
        "  if votos[i] > 0:\n",
        "   percentual = (votos[i] / total_votos) *100\n",
        "   print(f\"Candidato {i+1}: {votos[i]} voto(s) - Percentual: {formata_valor(percentual)}%\") # {i+1} -> para resolver índice começando no 0\n",
        "\n",
        "# Identifica o melhor jogador da partida\n",
        "melhor_jogador_votos = max(votos)\n",
        "melhor_jogador = votos.index(melhor_jogador_votos) + 1  # Ajustando o índice para começar de 1\n",
        "percentual_melhor_jogador = (melhor_jogador_votos / total_votos) * 100\n",
        "\n",
        "# O número do jogador escolhido como o melhor jogador da partida, juntamente com o número de votos e o percentual de votos dados a el\n",
        "print('=-' * 30)\n",
        "print('Melhor jogador:\\n')\n",
        "print(f'Vencedor da partida: Jogador {melhor_jogador}')\n",
        "print(f'Total de votos: {melhor_jogador_votos} - Percentual: {formata_valor(percentual_melhor_jogador)}%')"
      ],
      "metadata": {
        "id": "uP3MRSNMuL6I",
        "colab": {
          "base_uri": "https://localhost:8080/"
        },
        "outputId": "0cb5edcc-8b02-4eb0-a7cb-62b326831269"
      },
      "execution_count": 21,
      "outputs": [
        {
          "output_type": "stream",
          "name": "stdout",
          "text": [
            "=-=-=-=-=-=-=-=-=-=-=-=-=-=-=-=-=-=-=-=-=-=-=-=-=-=-=-=-=-=-\n",
            "                Sistema de Votação Esportivo                \n",
            "=-=-=-=-=-=-=-=-=-=-=-=-=-=-=-=-=-=-=-=-=-=-=-=-=-=-=-=-=-=-\n",
            "Digite o número do jogador [0 - encerra]: 3\n",
            "Digite o número do jogador [0 - encerra]: 3\n",
            "Digite o número do jogador [0 - encerra]: 4\n",
            "Digite o número do jogador [0 - encerra]: 5\n",
            "Digite o número do jogador [0 - encerra]: 0\n",
            "=-=-=-=-=-=-=-=-=-=-=-=-=-=-=-=-=-=-=-=-=-=-=-=-=-=-=-=-=-=-\n",
            "Resultados:\n",
            "\n",
            "Total de votos: 4\n",
            "Candidato 3: 2 voto(s) - Percentual: 50,00%\n",
            "Candidato 4: 1 voto(s) - Percentual: 25,00%\n",
            "Candidato 5: 1 voto(s) - Percentual: 25,00%\n",
            "=-=-=-=-=-=-=-=-=-=-=-=-=-=-=-=-=-=-=-=-=-=-=-=-=-=-=-=-=-=-\n",
            "Melhor jogador:\n",
            "\n",
            "Vencedor da partida: Jogador 3\n",
            "Total de votos: 2 - Percentual: 50,00%\n"
          ]
        }
      ]
    }
  ],
  "metadata": {
    "kernelspec": {
      "display_name": "base",
      "language": "python",
      "name": "python3"
    },
    "language_info": {
      "codemirror_mode": {
        "name": "ipython",
        "version": 3
      },
      "file_extension": ".py",
      "mimetype": "text/x-python",
      "name": "python",
      "nbconvert_exporter": "python",
      "pygments_lexer": "ipython3",
      "version": "3.11.7"
    },
    "colab": {
      "provenance": [],
      "include_colab_link": true
    }
  },
  "nbformat": 4,
  "nbformat_minor": 0
}