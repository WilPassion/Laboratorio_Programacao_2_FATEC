{
  "nbformat": 4,
  "nbformat_minor": 0,
  "metadata": {
    "colab": {
      "provenance": [],
      "authorship_tag": "ABX9TyMFRF54tru/rZhhM7K42WtX",
      "include_colab_link": true
    },
    "kernelspec": {
      "name": "python3",
      "display_name": "Python 3"
    },
    "language_info": {
      "name": "python"
    }
  },
  "cells": [
    {
      "cell_type": "markdown",
      "metadata": {
        "id": "view-in-github",
        "colab_type": "text"
      },
      "source": [
        "<a href=\"https://colab.research.google.com/github/WilPassion/Laboratorio_Programacao_2_FATEC/blob/main/William_Laborat%C3%B3rio_de_Programa%C3%A7%C3%A3o_II.ipynb\" target=\"_parent\"><img src=\"https://colab.research.google.com/assets/colab-badge.svg\" alt=\"Open In Colab\"/></a>"
      ]
    },
    {
      "cell_type": "markdown",
      "source": [
        "##**Aula 2**##"
      ],
      "metadata": {
        "id": "Nj-vTsYSYoad"
      }
    },
    {
      "cell_type": "code",
      "execution_count": null,
      "metadata": {
        "id": "HO7EBCw8-lLP",
        "colab": {
          "base_uri": "https://localhost:8080/"
        },
        "outputId": "83611ee1-4346-421e-e969-d5f3086a94f3"
      },
      "outputs": [
        {
          "output_type": "stream",
          "name": "stdout",
          "text": [
            "Hello World!\n"
          ]
        }
      ],
      "source": [
        "# Meu primeiro programa na disciplina\n",
        "print(\"Hello World!\")"
      ]
    },
    {
      "cell_type": "code",
      "source": [
        "# Primeiro exercício da Aula2\n",
        "int_idade = int(input(\"Entre com a sua idade: \"))\n",
        "float_salario = float(input(\"Entre com seu salário: \"))\n",
        "str_nome = str(input(\"Digite seu nome: \"))\n",
        "bool_pcd = bool(input(\"Pessoa PCD? \"))"
      ],
      "metadata": {
        "colab": {
          "base_uri": "https://localhost:8080/"
        },
        "id": "bex2wI-MCnyU",
        "outputId": "aecd71d3-3662-49bc-a41b-405d11ea9655"
      },
      "execution_count": null,
      "outputs": [
        {
          "name": "stdout",
          "output_type": "stream",
          "text": [
            "Entre com a sua idade: 5\n",
            "Entre com seu salário: 5\n",
            "Digite seu nome: wil\n",
            "Pessoa PCD? 0\n"
          ]
        }
      ]
    },
    {
      "cell_type": "markdown",
      "source": [
        "##**ATIVIDADE 1**##\n",
        "\n",
        "3. Primeiro programa a ser escrito: Você está no Brasil, e para temperatura usamos o grau Celsius. Porém, quando você for contrato para trabalhar como programador Python no exterior, deverá usar graus Fahrenheit. A fórmula de\n",
        "conversão é a seguinte: ... Ou seja, você fornece a temperatura em graus Celsius, e seu algoritmo implementado em Python faz a conversão para graus Fahrenheit.\n",
        "\n",
        "4. Segundo programa a ser escrito: Agora faça o contrário. Você fornece a temperatura em graus Fahrenheit, seu programa conversar para Celsius e exibe na tela.\n",
        "\n",
        "5. Um novo modelo de carro, super econômico foi lançado. Ele faz 20 km com 1 litro de combustível. Cada litro de combustível custa R$ 5,00. Faça um programa que pergunte ao usuário quanto de dinheiro ele tem e em seguida diga quantos litros de combustível ele pode comprar e quantos quilômetros o carro consegue andar com essa quantidade de combustível. Seu algoritmo será usado no computador de bordo do carro."
      ],
      "metadata": {
        "id": "kI7i9fSwKwEL"
      }
    },
    {
      "cell_type": "code",
      "source": [
        "# 3. Conversor Celsius > Fahrenheit\n",
        "\n",
        "# Entrada: grau celsius\n",
        "float_celsius = float(input(\"Digite a temperatura em Celsius: \"))\n",
        "\n",
        "# Processamento\n",
        "fahrenheit = 9 / 5 * float_celsius + 32\n",
        "\n",
        "# Saída: grau fahrenheit\n",
        "print(\"{} Cº = {} Fº\".format(float_celsius, fahrenheit))"
      ],
      "metadata": {
        "colab": {
          "base_uri": "https://localhost:8080/"
        },
        "id": "KTGWI0k-LuOD",
        "outputId": "3140b4f9-176f-4b50-a579-aedf63c374a6"
      },
      "execution_count": null,
      "outputs": [
        {
          "output_type": "stream",
          "name": "stdout",
          "text": [
            "Digite a temperatura em Celsius: 50\n",
            "50.0 Cº = 122.0 Fº\n"
          ]
        }
      ]
    },
    {
      "cell_type": "code",
      "source": [
        "# 4. Conversor Fahrenheit > Celsius\n",
        "\n",
        "# Entrada: grau fahrenheit\n",
        "float_fahrenheit = float(input(\"Digite a temperatura em Fahrenheit: \"))\n",
        "\n",
        "# Processamento\n",
        "celsius = 5 / 9 * (float_fahrenheit - 32)\n",
        "\n",
        "# Saída: grau celsius\n",
        "print(\"{} Fº = {} Cº\".format(float_fahrenheit, celsius))"
      ],
      "metadata": {
        "colab": {
          "base_uri": "https://localhost:8080/"
        },
        "id": "ipIMzXNPfR0w",
        "outputId": "2aedf23c-a9e2-4145-e86e-ff6040b8691f"
      },
      "execution_count": null,
      "outputs": [
        {
          "output_type": "stream",
          "name": "stdout",
          "text": [
            "Digite a temperatura em Fahrenheit: 122\n",
            "122.0 Fº = 50.0 Cº\n"
          ]
        }
      ]
    },
    {
      "cell_type": "code",
      "source": [
        "# 5. Simulador de Autonomia - Carro Econômico\n",
        "\n",
        "# Mengagem inicial - computador de bordo\n",
        "print(\"-=\" * 30)\n",
        "print(\"CALCULADORA DE COMBUSTÍVEL\".center(60))\n",
        "print(\"-=\" * 30)\n",
        "\n",
        "# Entrada: quantia $$ disponível do usuário\n",
        "float_valor = float(input(\"Digite o valor a ser gasto no abastecimento: R$\"))\n",
        "\n",
        "# Processamento\n",
        "total_litros = float_valor / 5\n",
        "total_distancia_km = total_litros * 20\n",
        "\n",
        "# Saída\n",
        "print(\"\\nVocê poderá abastecer {:.2f} litros de combustível e poderá rodar até {:.2f} km\".format(total_litros, total_distancia_km))\n"
      ],
      "metadata": {
        "colab": {
          "base_uri": "https://localhost:8080/"
        },
        "id": "a4gPQaYjgRpW",
        "outputId": "33d9a088-83b5-4794-f31e-599bb0a59008"
      },
      "execution_count": null,
      "outputs": [
        {
          "output_type": "stream",
          "name": "stdout",
          "text": [
            "-=-=-=-=-=-=-=-=-=-=-=-=-=-=-=-=-=-=-=-=-=-=-=-=-=-=-=-=-=-=\n",
            "                 CALCULADORA DE COMBUSTÍVEL                 \n",
            "-=-=-=-=-=-=-=-=-=-=-=-=-=-=-=-=-=-=-=-=-=-=-=-=-=-=-=-=-=-=\n",
            "Digite o valor a ser gasto no abastecimento: R$200\n",
            "\n",
            "Você poderá abastecer 40.00 litros de combustível e poderá rodar até 800.00 km\n"
          ]
        }
      ]
    }
  ]
}