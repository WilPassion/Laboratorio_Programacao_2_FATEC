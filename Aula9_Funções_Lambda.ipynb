{
  "nbformat": 4,
  "nbformat_minor": 0,
  "metadata": {
    "colab": {
      "provenance": [],
      "authorship_tag": "ABX9TyNKbq6cTedMc1KnLRffmlsp",
      "include_colab_link": true
    },
    "kernelspec": {
      "name": "python3",
      "display_name": "Python 3"
    },
    "language_info": {
      "name": "python"
    }
  },
  "cells": [
    {
      "cell_type": "markdown",
      "metadata": {
        "id": "view-in-github",
        "colab_type": "text"
      },
      "source": [
        "<a href=\"https://colab.research.google.com/github/WilPassion/Laboratorio_Programacao_2_FATEC/blob/main/Aula9_Fun%C3%A7%C3%B5es_Lambda.ipynb\" target=\"_parent\"><img src=\"https://colab.research.google.com/assets/colab-badge.svg\" alt=\"Open In Colab\"/></a>"
      ]
    },
    {
      "cell_type": "code",
      "execution_count": null,
      "metadata": {
        "id": "PsNew37wyuZD"
      },
      "outputs": [],
      "source": [
        "# Função lambda para cálculo de juros compostos (montante)\n",
        "\n",
        "capital = float(input('Entre com o capital R$: '))\n",
        "taxajuros = float(input('Entre com a taxa de juros mensal: '))\n",
        "periodo = float(input('Entre com o tempo em meses da aplicação: '))\n",
        "\n",
        "montante = lambda capital, taxajuros, periodo: (capital*(1+(taxajuros/100))**periodo)\n",
        "\n",
        "print('O montante é R$: ',montante(capital, taxajuros, periodo))"
      ]
    },
    {
      "cell_type": "code",
      "source": [
        "# Elabore uma função lambda que calcule o peso cubado para transporte rodoviário e mostre qual o peso considerado\n",
        "# (se o peso da mercadoria ou o peso cubado) recebendo como entrada altura, largura, profundidade (em metros) e\n",
        "# peso (em quilogramas).\n",
        "# Função lambda para cálculo de peso cubado rodoviário (1m3 = 300 kg)\n",
        "\n",
        "altura = float(input('Entre com a altura em metros: '))\n",
        "comprimento = float(input('Entre com o comprimento em metros: '))\n",
        "profundidade = float(input('Entre com a profundidade em metros: '))\n",
        "peso = float(input('Entre com o peso em kg: '))\n",
        "\n",
        "cubado = altura * comprimento * profundidade * 300\n",
        "\n",
        "peso_cubado = lambda cubado, peso: cubado if cubado > peso else peso\n",
        "\n",
        "print('O peso considerado é: ',peso_cubado(cubado,peso),' kg')"
      ],
      "metadata": {
        "id": "CS18Njvl6rq8"
      },
      "execution_count": null,
      "outputs": []
    },
    {
      "cell_type": "markdown",
      "source": [
        "# Atividade 8"
      ],
      "metadata": {
        "id": "0zb3RkmuDALk"
      }
    },
    {
      "cell_type": "code",
      "source": [
        "# Gere uma função lambda que receba um número inteiro qualquer e retorne True\n",
        "# se esse número for um quadrado perfeito ou False se ele não for.\n",
        "\n",
        "# Função lambda - Verifica se o número é um quadrado perfeito\n",
        "quadrado_perfeito = lambda n: int(n**0.5) ** 2 == n\n",
        "\n",
        "# Teste\n",
        "numero = int(input(\"Digite um número: \")) # Entrada dados\n",
        "print(quadrado_perfeito(numero)) # Saída dados"
      ],
      "metadata": {
        "colab": {
          "base_uri": "https://localhost:8080/"
        },
        "id": "cYtcLqsmC-pc",
        "outputId": "8fe88c13-6981-4afd-a04e-e037b0b7609b"
      },
      "execution_count": 2,
      "outputs": [
        {
          "output_type": "stream",
          "name": "stdout",
          "text": [
            "Digite um número: 5\n",
            "False\n"
          ]
        }
      ]
    }
  ]
}